{
  "nbformat": 4,
  "nbformat_minor": 0,
  "metadata": {
    "colab": {
      "provenance": [],
      "toc_visible": true
    },
    "kernelspec": {
      "name": "python3",
      "display_name": "Python 3"
    },
    "language_info": {
      "name": "python"
    }
  },
  "cells": [
    {
      "cell_type": "markdown",
      "source": [
        "Data Types and Structures Questions\n",
        "\n",
        "1)\tWhat are data structures, and why are they important  ?\n",
        "-\tA data structure is a way of organizing and storing the data. They are important so that the data can be accessed and modified.\n",
        "\n",
        "2)\tExplain the difference between mutable and immutable data types with examples.\n",
        "-\tMutable data type structure means the datatype structure can be changed.\n",
        "-\tEx –\n",
        "List=[a,b,c,d]\n",
        "The elements in the list can be changed\n",
        "List[0]= “e”\n",
        "\n",
        "Immutable data type means we cannot change anything in the data\n",
        "\n",
        "Ex- name= “Shanu”\n",
        "We cannot change anything in this datatype after it is created\n",
        "\n",
        "Name[0]= “Shanu” will give an error\n",
        "\n",
        "3)\t What are the main differences between lists and tuples in Python.\n",
        "\n",
        "-\tList is and mutable datatype where as tuple is an immutable datatype\n",
        "-\tSyntax – list syntax is list=[a,b,c]\n",
        "-\tSytax for tupple is tp= (1,2,3)\n",
        "\n",
        "4)\tDescribe how dictionaries store data\n",
        "Dictionaries store the data in key and a value pair\n",
        "Ex – dict= {“student”: “Atul”, “age”:10}\n",
        "\n",
        "5)\tWhy might you use a set instead of a list in Python?\n",
        "\n",
        "6)\tWhat is a string in Python, and how is it different from a list?\n",
        "\n",
        "-\tString is the sequence of the characters  example – “Pw Skills” which can be used to create dictionaries, list or any data type. Whereas list is the collection of any datatype and string can be used to create a list\n",
        "\n",
        "7)\t How do tuples ensure data integrity in Python?\n",
        "\n",
        "8)\tWhat is a hash table, and how does it relate to dictionaries in Python?\n",
        "\n",
        "9)\tCan lists contain different data types in Python ?\n",
        "\n",
        "-\tYes list can contain different data types in python\n",
        "Ex- lst= [42, \"hi\", 4.1, True,]\n",
        "\n",
        "10)\t Explain why strings are immutable in Python ?\n",
        "\n",
        "11)\tWhat advantages do dictionaries offer over lists for certain tasks?\n",
        "\n",
        "-\tDictionaries allow access to some data by their keys and values where as lists are used where we need to iterate or update the data stored.\n",
        "\n",
        "12)\tDescribe a scenario where using a tuple would be preferable over a list?\n",
        "\n",
        "13)\tHow do sets handle duplicate values in Python?\n",
        "\n",
        "-\tSets automatically handle the duplicate value by ignoring the new duplicated value in the set as it ignores the new value and count the original one\n",
        "\n",
        "14)\tHow does the “in” keyword work differently for lists and dictionaries?\n",
        "-\t“in” keyword in list – check for the member present in the list or not\n",
        "-\t“in” keyword in dictionaries – check for the member present by the key\n",
        "\n",
        "15)\tWhat is a nested dictionary, and give an example of its use case?\n",
        "-\tA nested dictionary is a dictionary where the values can themselves be dictionaries. It is list dictionary within a dictionary\n",
        "-\tEx - dict = {\n",
        "    \"Student_1\": {\"name\": \"Atul\", \"age\": 30, \"city\": \"Delhi\"},\n",
        "    \"Student_2\": {\"name\": \"Ajay\", \"age\": 25, \"city\": \"Gurugram\"},\n",
        "    \"Student_3\": {\"name\": \"Chetan\", \"age\": 35, \"city\": \"Himachal\"}\n",
        "}\n",
        "\n",
        "16)\tDescribe the time complexity of accessing elements in a dictionary?\n",
        "  -\n",
        "\n",
        "\n",
        "\n",
        "17)\tIn what situations are lists preferred over dictionaries.\n",
        "\n",
        "-\tWe need list in case where the items are stored in ordered when its created.\n",
        "-\tIn case where we allow the duplicate values in the data like and where the data can be appended.\n",
        "\n",
        "18)\tWhy are dictionaries considered unordered, and how does that affect data retrieval?\n",
        "-\n",
        "\n",
        "\n",
        "19)\tExplain the difference between a list and a dictionary in terms of data retrieval.\n",
        "\n",
        "-"
      ],
      "metadata": {
        "id": "yzCCFuNUR1pl"
      }
    },
    {
      "cell_type": "code",
      "source": [
        "## Practical Practical Questions ###\n",
        "\n",
        "# 1) Write a Python program to print \"Hello, World!\n",
        "\n",
        "print(\"Hello World\")"
      ],
      "metadata": {
        "id": "euBPA_aHUBfB",
        "colab": {
          "base_uri": "https://localhost:8080/"
        },
        "outputId": "fc30c644-8e68-4701-d493-096f7b51b91f"
      },
      "execution_count": 2,
      "outputs": [
        {
          "output_type": "stream",
          "name": "stdout",
          "text": [
            "Hello World\n"
          ]
        }
      ]
    },
    {
      "cell_type": "code",
      "source": [
        "#2) Write a code to find the length of the string \"Hello World\"\n",
        "\n",
        "str= \"Hello World\"\n",
        "print(len(str))\n"
      ],
      "metadata": {
        "colab": {
          "base_uri": "https://localhost:8080/"
        },
        "id": "B9Wjn8m_4wuP",
        "outputId": "98a8c67c-6d22-45d0-956b-703b10c9422b"
      },
      "execution_count": 25,
      "outputs": [
        {
          "output_type": "stream",
          "name": "stdout",
          "text": [
            "11\n"
          ]
        }
      ]
    },
    {
      "cell_type": "code",
      "source": [
        "#Write a code to slice the first 3 characters from the string \"Python Programming\"\n",
        "\n",
        "word=\"Python Programming\"\n",
        "\n",
        "print(word[0:3])\n"
      ],
      "metadata": {
        "colab": {
          "base_uri": "https://localhost:8080/"
        },
        "id": "7h5XfQ2c61do",
        "outputId": "2267805a-5cfb-44ef-eaa2-58626ff784dd"
      },
      "execution_count": 26,
      "outputs": [
        {
          "output_type": "stream",
          "name": "stdout",
          "text": [
            "Pyt\n"
          ]
        }
      ]
    },
    {
      "cell_type": "code",
      "source": [
        "#3) Write a code to convert the string \"hello\" to uppercase\n",
        "\n",
        "word=\"hello\"\n",
        "print(word.upper())"
      ],
      "metadata": {
        "colab": {
          "base_uri": "https://localhost:8080/"
        },
        "id": "8XqLnAMu7iym",
        "outputId": "2e75dec5-4cfb-4907-93d5-9dee2f972cd4"
      },
      "execution_count": 28,
      "outputs": [
        {
          "output_type": "stream",
          "name": "stdout",
          "text": [
            "HELLO\n"
          ]
        }
      ]
    },
    {
      "cell_type": "code",
      "source": [
        "# 4) prompt: (P Write a code to replace the word \"apple\" with \"orange\" in the string \"I like apple\"P\n",
        "\n",
        "string=\"I like apple\"\n",
        "print(string.replace(\"apple\",\"orange\"))\n"
      ],
      "metadata": {
        "colab": {
          "base_uri": "https://localhost:8080/"
        },
        "id": "FhPNpxUE9DGC",
        "outputId": "02b9aa62-5e29-477e-c99b-56543b23844d"
      },
      "execution_count": 29,
      "outputs": [
        {
          "output_type": "stream",
          "name": "stdout",
          "text": [
            "I like orange\n"
          ]
        }
      ]
    },
    {
      "cell_type": "code",
      "source": [
        "# 5) prompt: Write a code to create a list with numbers 1 to 5 and print it\n",
        "\n",
        "my_list = [1, 2, 3, 4, 5]\n",
        "my_list"
      ],
      "metadata": {
        "colab": {
          "base_uri": "https://localhost:8080/"
        },
        "id": "7Ck2LRgz7_FI",
        "outputId": "7143deea-6cb2-4b95-996f-9b31fcf3f21e"
      },
      "execution_count": 30,
      "outputs": [
        {
          "output_type": "execute_result",
          "data": {
            "text/plain": [
              "[1, 2, 3, 4, 5]"
            ]
          },
          "metadata": {},
          "execution_count": 30
        }
      ]
    },
    {
      "cell_type": "code",
      "source": [
        "# 6) Write a code to append the number 10 to the list [1, 2, 3, 4]\n",
        "list=[1,2,3,4]\n",
        "list.append(10)\n",
        "list"
      ],
      "metadata": {
        "colab": {
          "base_uri": "https://localhost:8080/"
        },
        "id": "m5l003pw9X2x",
        "outputId": "2cbe2267-4467-4f59-8c4d-d6f480008474"
      },
      "execution_count": 31,
      "outputs": [
        {
          "output_type": "execute_result",
          "data": {
            "text/plain": [
              "[1, 2, 3, 4, 10]"
            ]
          },
          "metadata": {},
          "execution_count": 31
        }
      ]
    },
    {
      "cell_type": "code",
      "source": [
        "#7)Write a code to remove the number 3 from the list [1, 2, 3, 4, 5]\n",
        "list=[1,2,3,4,5]\n",
        "list.remove(3)\n",
        "list\n"
      ],
      "metadata": {
        "colab": {
          "base_uri": "https://localhost:8080/"
        },
        "id": "I_J6ELs29kPU",
        "outputId": "83eca38b-38bd-48e2-ca9f-c6a413a5bcf1"
      },
      "execution_count": 33,
      "outputs": [
        {
          "output_type": "execute_result",
          "data": {
            "text/plain": [
              "[1, 2, 4, 5]"
            ]
          },
          "metadata": {},
          "execution_count": 33
        }
      ]
    },
    {
      "cell_type": "code",
      "source": [
        "# 8 Write a code to access the second element in the list ['a', 'b', 'c', 'd']\n",
        "list=['a', 'b', 'c', 'd']\n",
        "list[1]\n"
      ],
      "metadata": {
        "colab": {
          "base_uri": "https://localhost:8080/",
          "height": 35
        },
        "id": "zhSL14-59yMu",
        "outputId": "854b493b-3206-43f0-92ca-b25ab63cffaf"
      },
      "execution_count": 34,
      "outputs": [
        {
          "output_type": "execute_result",
          "data": {
            "text/plain": [
              "'b'"
            ],
            "application/vnd.google.colaboratory.intrinsic+json": {
              "type": "string"
            }
          },
          "metadata": {},
          "execution_count": 34
        }
      ]
    },
    {
      "cell_type": "code",
      "source": [
        "# 9 Write a code to reverse the list [10, 20, 30, 40, 50]\n",
        "list=[10, 20, 30, 40, 50]\n",
        "list.reverse()\n",
        "list"
      ],
      "metadata": {
        "colab": {
          "base_uri": "https://localhost:8080/"
        },
        "id": "ss3m_FjV9vOO",
        "outputId": "d18357d9-69eb-43ed-f6d7-c2813611389e"
      },
      "execution_count": 46,
      "outputs": [
        {
          "output_type": "execute_result",
          "data": {
            "text/plain": [
              "30"
            ]
          },
          "metadata": {},
          "execution_count": 46
        }
      ]
    },
    {
      "cell_type": "code",
      "source": [
        "# 10 Write a code to create a tuple with the elements 100, 200, 300 and print it.\n",
        "tpple=(100,200,300)\n",
        "tpple\n"
      ],
      "metadata": {
        "colab": {
          "base_uri": "https://localhost:8080/"
        },
        "id": "ZRYj1neg-Ez4",
        "outputId": "2d4839aa-602b-4ace-fe5c-df32b6327cae"
      },
      "execution_count": 48,
      "outputs": [
        {
          "output_type": "execute_result",
          "data": {
            "text/plain": [
              "(100, 200, 300)"
            ]
          },
          "metadata": {},
          "execution_count": 48
        }
      ]
    },
    {
      "cell_type": "code",
      "source": [
        "# 11 Write a code to access the second-to-last element of the tuple ('red', 'green', 'blue', 'yellow').\n",
        "\n",
        "tpple=('red', 'green', 'blue', 'yellow')\n",
        "tpple[2]"
      ],
      "metadata": {
        "colab": {
          "base_uri": "https://localhost:8080/",
          "height": 35
        },
        "id": "sXcwkFzI_QqU",
        "outputId": "08a033ab-8bd8-4444-f01f-f95418aa3832"
      },
      "execution_count": 53,
      "outputs": [
        {
          "output_type": "execute_result",
          "data": {
            "text/plain": [
              "'blue'"
            ],
            "application/vnd.google.colaboratory.intrinsic+json": {
              "type": "string"
            }
          },
          "metadata": {},
          "execution_count": 53
        }
      ]
    },
    {
      "cell_type": "code",
      "source": [
        "#12 Write a code to find the minimum number in the tuple (10, 20, 5, 15)\n",
        "\n",
        "tpple=(10, 20, 5, 15)\n",
        "print(min(tpple))\n"
      ],
      "metadata": {
        "colab": {
          "base_uri": "https://localhost:8080/"
        },
        "id": "8SnIu3IS_j9n",
        "outputId": "6bb138c4-1378-4383-a3b7-a97e319911bd"
      },
      "execution_count": 56,
      "outputs": [
        {
          "output_type": "stream",
          "name": "stdout",
          "text": [
            "5\n"
          ]
        }
      ]
    },
    {
      "cell_type": "code",
      "source": [
        "#13 Write a code to find the index of the element \"cat\" in the tuple ('dog', 'cat', 'rabbit')\n",
        "\n",
        "\n",
        "tpple=('dog', 'cat', 'rabbit')\n",
        "\n",
        "tpple.index('cat')\n"
      ],
      "metadata": {
        "colab": {
          "base_uri": "https://localhost:8080/"
        },
        "id": "L5ep5vsMAA0j",
        "outputId": "f71a8e7c-2c65-4eef-f84b-51339d4afa8a"
      },
      "execution_count": 58,
      "outputs": [
        {
          "output_type": "execute_result",
          "data": {
            "text/plain": [
              "1"
            ]
          },
          "metadata": {},
          "execution_count": 58
        }
      ]
    },
    {
      "cell_type": "code",
      "source": [
        " # 14 Write a code to create a tuple containing three different fruits and check if \"kiwi\" is in it.\n",
        "\n",
        "fruits=(\"apple\",\"banana\",\"kiwi\")\n",
        "\n",
        "if \"kiwi\" in fruits:\n",
        "    print(\"kiwi is in the tuple\")\n",
        "else:\n",
        "    print(\"kiwi is not in the tuple\")"
      ],
      "metadata": {
        "colab": {
          "base_uri": "https://localhost:8080/"
        },
        "id": "Mrna9sD8AllG",
        "outputId": "06f890e1-7948-4fde-917d-7a50614240e6"
      },
      "execution_count": 60,
      "outputs": [
        {
          "output_type": "stream",
          "name": "stdout",
          "text": [
            "kiwi is in the tuple\n"
          ]
        }
      ]
    },
    {
      "cell_type": "code",
      "source": [
        "#15 Write a code to create a set with the elements 'a', 'b', 'c' and print it.\n",
        "\n",
        "tpple=('a', 'b', 'c')\n",
        "tpple\n"
      ],
      "metadata": {
        "colab": {
          "base_uri": "https://localhost:8080/"
        },
        "id": "oSjJatcAA2mj",
        "outputId": "652668f1-b631-4d3d-f69d-8e80be6dd5e0"
      },
      "execution_count": 62,
      "outputs": [
        {
          "output_type": "execute_result",
          "data": {
            "text/plain": [
              "('a', 'b', 'c')"
            ]
          },
          "metadata": {},
          "execution_count": 62
        }
      ]
    },
    {
      "cell_type": "code",
      "source": [
        "# 16 Write a code to clear all elements from the set {1, 2, 3, 4, 5}\n",
        "\n",
        "st={1, 2, 3, 4, 5}\n",
        "print(st.clear())\n",
        "\n"
      ],
      "metadata": {
        "colab": {
          "base_uri": "https://localhost:8080/"
        },
        "id": "nTXzyMeTBBBa",
        "outputId": "1a313cd5-4b65-4ff2-9afa-de3d55789627"
      },
      "execution_count": 67,
      "outputs": [
        {
          "output_type": "stream",
          "name": "stdout",
          "text": [
            "None\n"
          ]
        }
      ]
    },
    {
      "cell_type": "code",
      "source": [
        " # 17 Write a code to remove the element 4 from the set {1, 2, 3, 4}\n",
        "\n",
        "st={1, 2, 3, 4, 5}\n",
        "st.remove(4)\n",
        "st"
      ],
      "metadata": {
        "colab": {
          "base_uri": "https://localhost:8080/"
        },
        "id": "seZDLI3sBJck",
        "outputId": "8f40254e-1dce-47ac-f3fc-65924076900a"
      },
      "execution_count": 69,
      "outputs": [
        {
          "output_type": "execute_result",
          "data": {
            "text/plain": [
              "{1, 2, 3, 5}"
            ]
          },
          "metadata": {},
          "execution_count": 69
        }
      ]
    },
    {
      "cell_type": "code",
      "source": [
        "# 18 Write a code to find the union of two sets {1, 2, 3} and {3, 4, 5}\n",
        "\n",
        "st_1={1,2,3}\n",
        "st_2={3, 4, 5}\n",
        "\n",
        "print(st_1.union(st_2))\n",
        "# or\n",
        "print(st_1 | st_2)\n",
        "\n",
        "\n"
      ],
      "metadata": {
        "colab": {
          "base_uri": "https://localhost:8080/"
        },
        "id": "AGGUOyhKBa00",
        "outputId": "ed824b5f-eedf-4fd8-f5f0-fa7a29fa6dd8"
      },
      "execution_count": 73,
      "outputs": [
        {
          "output_type": "stream",
          "name": "stdout",
          "text": [
            "{1, 2, 3, 4, 5}\n",
            "{1, 2, 3, 4, 5}\n"
          ]
        }
      ]
    },
    {
      "cell_type": "code",
      "source": [
        "# 19 Write a code to find the intersection of two sets {1, 2, 3} and {2, 3, 4}\n",
        "st_1={1,2,3}\n",
        "st_2={2,3,4}\n",
        "\n",
        "intersection = st_1 and st_2\n",
        "print(intersection)"
      ],
      "metadata": {
        "colab": {
          "base_uri": "https://localhost:8080/"
        },
        "id": "a0Z6D7anM4ef",
        "outputId": "d6e45a62-2a0a-405f-dd1c-fead414f0a85"
      },
      "execution_count": 74,
      "outputs": [
        {
          "output_type": "stream",
          "name": "stdout",
          "text": [
            "{2, 3, 4}\n"
          ]
        }
      ]
    },
    {
      "cell_type": "code",
      "source": [
        "#20Write a code to create a dictionary with the keys \"name\", \"age\", and \"city\", and print it.\n",
        "\n",
        "dict_1={\n",
        "\"name\":\"Atul\",\n",
        "\"age\":20,\n",
        "\"city\":\"Delhi\"\n",
        "}\n",
        "\n",
        "dict_1\n",
        ""
      ],
      "metadata": {
        "colab": {
          "base_uri": "https://localhost:8080/"
        },
        "id": "7pwMNAspOQ6U",
        "outputId": "779e34ef-b43a-4de6-d78a-31d1a2b78433"
      },
      "execution_count": 79,
      "outputs": [
        {
          "output_type": "execute_result",
          "data": {
            "text/plain": [
              "{'name': 'Atul', 'age': 20, 'city': 'Delhi'}"
            ]
          },
          "metadata": {},
          "execution_count": 79
        }
      ]
    },
    {
      "cell_type": "code",
      "source": [
        "#21#Write a code to add a new key-value pair \"country\": \"USA\" to the dictionary {'name': 'John', 'age': 25}.\n",
        "\n",
        "dict_1={\n",
        "'name': 'John',\n",
        "'age': 25\n",
        "}\n",
        "\n",
        "dict_1.update({\"country\":\"USA\"}) # to add new pair of key value\n",
        "dict_1\n",
        "\n",
        "\n"
      ],
      "metadata": {
        "colab": {
          "base_uri": "https://localhost:8080/"
        },
        "id": "U8Ejt0CLPAbB",
        "outputId": "62cfeb8a-dd89-4176-a322-95b7497c56ff"
      },
      "execution_count": 83,
      "outputs": [
        {
          "output_type": "execute_result",
          "data": {
            "text/plain": [
              "{'name': 'John', 'age': 25, 'country': 'USA'}"
            ]
          },
          "metadata": {},
          "execution_count": 83
        }
      ]
    },
    {
      "cell_type": "code",
      "source": [
        "# 22 Write a code to access the value associated with the key \"name\" in the dictionary {'name': 'Alice', 'age': 30}\n",
        "dict_1={\n",
        "'name': 'Alice',\n",
        "'age': 30\n",
        "}\n",
        "\n",
        "dict_1['name']\n",
        "\n"
      ],
      "metadata": {
        "colab": {
          "base_uri": "https://localhost:8080/",
          "height": 35
        },
        "id": "efh3WgdCPvh9",
        "outputId": "13d38138-415a-4e87-8fdb-5c62d589b22f"
      },
      "execution_count": 84,
      "outputs": [
        {
          "output_type": "execute_result",
          "data": {
            "text/plain": [
              "'Alice'"
            ],
            "application/vnd.google.colaboratory.intrinsic+json": {
              "type": "string"
            }
          },
          "metadata": {},
          "execution_count": 84
        }
      ]
    },
    {
      "cell_type": "code",
      "source": [
        " #23 Write a code to remove the key \"age\" from the dictionary {'name': 'Bob', 'age': 22, 'city': 'New York'}.\n",
        "\n",
        "dict_1={'name': 'Bob', 'age': 22, 'city': 'New York'}\n",
        "\n",
        "dict_1.pop(\"age\")\n",
        "dict_1"
      ],
      "metadata": {
        "colab": {
          "base_uri": "https://localhost:8080/"
        },
        "id": "0a5nn0JiQt4I",
        "outputId": "acbc081f-8fd7-4497-da4d-79c80cea0ffb"
      },
      "execution_count": 86,
      "outputs": [
        {
          "output_type": "execute_result",
          "data": {
            "text/plain": [
              "{'name': 'Bob', 'city': 'New York'}"
            ]
          },
          "metadata": {},
          "execution_count": 86
        }
      ]
    },
    {
      "cell_type": "code",
      "source": [
        "# 24 Write a code to check if the key \"city\" exists in the dictionary {'name': 'Alice', 'city': 'Paris'}\n",
        "\n",
        "dict_1={'name': 'Alice', 'city': 'Paris'}\n",
        "\n",
        "if \"city\" in dict_1:\n",
        "    print(\"city is present\")\n",
        "else:\n",
        "    print(\"city is not present\")"
      ],
      "metadata": {
        "colab": {
          "base_uri": "https://localhost:8080/"
        },
        "id": "dE-rfRDTQ8bz",
        "outputId": "f4c3b0fc-c0e5-4a61-d530-dbebf250eb07"
      },
      "execution_count": 87,
      "outputs": [
        {
          "output_type": "stream",
          "name": "stdout",
          "text": [
            "city is present\n"
          ]
        }
      ]
    },
    {
      "cell_type": "code",
      "source": [
        "# 25 Write a code to create a list, a tuple, and a dictionary, and print them all.\n",
        "list_1=[1,2,3]\n",
        "tuple_1=(5,6,7)\n",
        "dict_1={\n",
        "\"name\":\"Atul\",\n",
        "\"age\":20,\n",
        "\"city\":\"Delhi\"\n",
        "}\n",
        "\n",
        "print(list_1)\n",
        "print(tuple_1)\n",
        "print(dict_1)\n"
      ],
      "metadata": {
        "colab": {
          "base_uri": "https://localhost:8080/"
        },
        "id": "1raVbMJzRJoo",
        "outputId": "504c9b65-38d8-4774-b494-312c4974a935"
      },
      "execution_count": 90,
      "outputs": [
        {
          "output_type": "stream",
          "name": "stdout",
          "text": [
            "[1, 2, 3]\n",
            "(5, 6, 7)\n",
            "{'name': 'Atul', 'age': 20, 'city': 'Delhi'}\n"
          ]
        }
      ]
    },
    {
      "cell_type": "code",
      "source": [
        "#26 Write a code to create a list of 5 random numbers between 1 and 100, sort it in ascending order, and print the result.(replaced)\n",
        "\n",
        "\n",
        "\n"
      ],
      "metadata": {
        "id": "DpU2WbTzRSTC"
      },
      "execution_count": null,
      "outputs": []
    },
    {
      "cell_type": "code",
      "source": [
        "# Write a code to create a list with strings and print the element at the third index\n",
        "\n",
        "list_1=[\"Atul\",\"Ajay\",\"Chetan\"]\n",
        "list_1[2]\n"
      ],
      "metadata": {
        "colab": {
          "base_uri": "https://localhost:8080/",
          "height": 35
        },
        "id": "jGG1T7qARzUi",
        "outputId": "04c34906-cc08-464a-9694-5fc20a7739d6"
      },
      "execution_count": 91,
      "outputs": [
        {
          "output_type": "execute_result",
          "data": {
            "text/plain": [
              "'Chetan'"
            ],
            "application/vnd.google.colaboratory.intrinsic+json": {
              "type": "string"
            }
          },
          "metadata": {},
          "execution_count": 91
        }
      ]
    },
    {
      "cell_type": "code",
      "source": [
        "# Define two dictionaries\n",
        "dict1 = {'a': 1, 'b': 2}\n",
        "dict2 = {'c': 3, 'd': 4}\n",
        "\n",
        "# Combine the dictionaries using the unpacking operator (Python 3.5+)\n",
        "combined_dict = dict1 | dict2\n",
        "\n",
        "# Print the combined dictionary\n",
        "print(\"Combined Dictionary:\")\n",
        "print(combined_dict)"
      ],
      "metadata": {
        "colab": {
          "base_uri": "https://localhost:8080/"
        },
        "id": "543lBS2NR8zW",
        "outputId": "b85714db-ac47-4d1d-9e68-9b557f0712ba"
      },
      "execution_count": 92,
      "outputs": [
        {
          "output_type": "stream",
          "name": "stdout",
          "text": [
            "Combined Dictionary:\n",
            "{'a': 1, 'b': 2, 'c': 3, 'd': 4}\n"
          ]
        }
      ]
    },
    {
      "cell_type": "code",
      "source": [],
      "metadata": {
        "id": "yJLOvo_nSM2y"
      },
      "execution_count": null,
      "outputs": []
    }
  ]
}