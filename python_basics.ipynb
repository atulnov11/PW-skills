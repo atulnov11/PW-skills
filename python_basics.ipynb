{
  "nbformat": 4,
  "nbformat_minor": 0,
  "metadata": {
    "colab": {
      "provenance": []
    },
    "kernelspec": {
      "name": "python3",
      "display_name": "Python 3"
    },
    "language_info": {
      "name": "python"
    }
  },
  "cells": [
    {
      "cell_type": "code",
      "execution_count": null,
      "metadata": {
        "id": "mLSbwHxDhenZ"
      },
      "outputs": [],
      "source": []
    },
    {
      "cell_type": "markdown",
      "source": [
        "# Python Basics Questions\n",
        "\n",
        "1)  What is Python, and why is it popular ?\n",
        "\n",
        "    - Python is a programming language for creating instruction by predefined functions and symols and syntax so that the computer can follow to give an output.\n",
        "    - Python is popular as it is used in data science feild, Machine learning and creating automations, creating software, websites. Python is also used by non technical background people to ease the daily tasks.\n",
        "\n",
        "\n",
        "2) What is an interpreter in Python ?\n",
        "\n",
        "  - Intereter reads the python code line by line and executes. Beacuse of the interpreter the errors are detected in the code if found in the execution.\n",
        "\n",
        "3) What are pre-defined keywords in Python ?\n",
        "\n",
        "  - Pre defined keywords in python are the characters which are already defined in the python language and they are used to create instructions. - ex - If, Else, True, False, while, break, continue, def, class, and, or, in etc.\n",
        "\n",
        "\n",
        "4) Can keywords be used as variable names ?\n",
        "   - No the keywords are predefined and using them may throw an error\n",
        "\n",
        "\n",
        "5) What is mutability in Python ?\n",
        "   - Mutability in python means once the data type is created can be modified ex- list.\n",
        "\n",
        "6) Why are lists mutable, but tuples are immutable ?\n",
        "   -\n",
        "\n",
        "7) What is the difference between “==” and “is” operators in Python ?\n",
        "   - \"==\" checks whether the value are equal\n",
        "   -  \"is\" checks whether the two variable have same objects in the memory.\n",
        "\n",
        "8) What are logical operators in Python ?\n",
        "   - logical operators are the keywords which are used to perform logical operations. ex - and, or , not.\n",
        "\n",
        "9) What is type casting in Python ?\n",
        "   - type casting means changing the form of the data type. For example -\n",
        "     if the number is stored as a string format. It can be changed into a integer. - num =\"1\"  int(num) # to change into integer.\n",
        "\n",
        "10) What is the difference between implicit and explicit type casting ?\n",
        "    - implicit type casting are done automatically by the python.\n",
        "    - explicit typecasting are done manually by the programmer.\n",
        "\n",
        "11) What is the purpose of conditional statements in Python ?\n",
        "    - conditional statements are used to create the set of instruction will perfrom on certain conditions and output is given as per the conditions created.\n",
        "\n",
        "12) How does the elif statement work ?\n",
        "    - Elif statement work where the multiple conditions are  checked in the conditional stament.\n",
        "\n",
        "13) What is the difference between for and while loops ?\n",
        "    - for loops are used where we need to iterate the item upto a known range\n",
        "    - while loops are used where the items are iterated until a condition is met.\n",
        "\n",
        "14) Describe a scenario where a while loop is more suitable than a for loop ?\n",
        "   - while loop can be used where the user has failed the login attemps upto a number of time.\n",
        "   number of login attemps are set as the conditions if it the number of login attemps are exeeded the system will throw an error to try again after sometime.\n",
        "\n",
        "\n",
        "   \n",
        "\n",
        "\n"
      ],
      "metadata": {
        "id": "rsACXZKvhthz"
      }
    },
    {
      "cell_type": "code",
      "source": [
        "#1) Write a Python program to print \"Hello, World!\n",
        "print(\"Hello World\")\n"
      ],
      "metadata": {
        "colab": {
          "base_uri": "https://localhost:8080/"
        },
        "id": "AXKbTwxtukm1",
        "outputId": "170d7d81-5653-46ab-e45b-5be1bf92fd92"
      },
      "execution_count": 1,
      "outputs": [
        {
          "output_type": "stream",
          "name": "stdout",
          "text": [
            "Hello World\n"
          ]
        }
      ]
    },
    {
      "cell_type": "code",
      "source": [
        "# 2) Write a Python program that displays your name and age\n",
        "\n",
        "name=\"Atul\"\n",
        "age=25\n",
        "print(\"My name and age is as\",name,\"-\",age)"
      ],
      "metadata": {
        "colab": {
          "base_uri": "https://localhost:8080/"
        },
        "id": "fvygfzwnuwkk",
        "outputId": "42d84ffa-03e2-4dc9-edbe-a0d6aa27512e"
      },
      "execution_count": 4,
      "outputs": [
        {
          "output_type": "stream",
          "name": "stdout",
          "text": [
            "My name and age is as Atul - 25\n"
          ]
        }
      ]
    },
    {
      "cell_type": "code",
      "source": [
        " # 3) Write code to print all the pre-defined keywords in Python using the keyword library\n",
        "import keyword\n",
        "print(keyword.kwlist)\n"
      ],
      "metadata": {
        "colab": {
          "base_uri": "https://localhost:8080/"
        },
        "id": "XXftrKl-vH5S",
        "outputId": "2ba411b0-d5b3-4be9-a015-51ea87408eee"
      },
      "execution_count": 5,
      "outputs": [
        {
          "output_type": "stream",
          "name": "stdout",
          "text": [
            "['False', 'None', 'True', 'and', 'as', 'assert', 'async', 'await', 'break', 'class', 'continue', 'def', 'del', 'elif', 'else', 'except', 'finally', 'for', 'from', 'global', 'if', 'import', 'in', 'is', 'lambda', 'nonlocal', 'not', 'or', 'pass', 'raise', 'return', 'try', 'while', 'with', 'yield']\n"
          ]
        }
      ]
    },
    {
      "cell_type": "markdown",
      "source": [],
      "metadata": {
        "id": "0AiqlRs1j6pC"
      }
    },
    {
      "cell_type": "code",
      "source": [
        "#4) Write a program that checks if a given word is a Python keyword\n",
        "import keyword\n",
        "\n",
        "\n",
        "word = input(\"Enter your word: \")  # Get user input\n",
        "\n",
        "\n",
        "if keyword.iskeyword(word):\n",
        "    print(f\"'{word}' is a Python keyword.\")   # Check if the word is a Python keyword\n",
        "else:\n",
        "    print(f\"'{word}' is not a Python keyword.\")"
      ],
      "metadata": {
        "id": "wbjs9Na5vYii"
      },
      "execution_count": null,
      "outputs": []
    },
    {
      "cell_type": "code",
      "source": [
        "#5) Create a list and tuple in Python, and demonstrate how attempting to change an element works differently for each.\n",
        "\n",
        "lst = [10, 20, 30, 40]  # Creating a list\n",
        "\n",
        "lst[0]=\"Atul\"  # list can be modified as its an immutable datatype\n",
        "\n",
        "lst\n",
        "\n",
        "\n",
        "m_tuple = (10, 20, 30, 40)  # Creating a tuple\n",
        "\n",
        "m_tuple[0]=\"Atul\" # will throw an error if we try to modify the data\n",
        "\n",
        "\n",
        "\n"
      ],
      "metadata": {
        "colab": {
          "base_uri": "https://localhost:8080/",
          "height": 211
        },
        "id": "rt_k9pR0v39Z",
        "outputId": "396ca8fa-d7e1-4b1f-9f21-c382ac483158"
      },
      "execution_count": 7,
      "outputs": [
        {
          "output_type": "error",
          "ename": "TypeError",
          "evalue": "'tuple' object does not support item assignment",
          "traceback": [
            "\u001b[0;31m---------------------------------------------------------------------------\u001b[0m",
            "\u001b[0;31mTypeError\u001b[0m                                 Traceback (most recent call last)",
            "\u001b[0;32m<ipython-input-7-e000e42f4c5f>\u001b[0m in \u001b[0;36m<cell line: 0>\u001b[0;34m()\u001b[0m\n\u001b[1;32m     10\u001b[0m \u001b[0mm_tuple\u001b[0m \u001b[0;34m=\u001b[0m \u001b[0;34m(\u001b[0m\u001b[0;36m10\u001b[0m\u001b[0;34m,\u001b[0m \u001b[0;36m20\u001b[0m\u001b[0;34m,\u001b[0m \u001b[0;36m30\u001b[0m\u001b[0;34m,\u001b[0m \u001b[0;36m40\u001b[0m\u001b[0;34m)\u001b[0m  \u001b[0;31m# Creating a tuple\u001b[0m\u001b[0;34m\u001b[0m\u001b[0;34m\u001b[0m\u001b[0m\n\u001b[1;32m     11\u001b[0m \u001b[0;34m\u001b[0m\u001b[0m\n\u001b[0;32m---> 12\u001b[0;31m \u001b[0mm_tuple\u001b[0m\u001b[0;34m[\u001b[0m\u001b[0;36m0\u001b[0m\u001b[0;34m]\u001b[0m\u001b[0;34m=\u001b[0m\u001b[0;34m\"Atul\"\u001b[0m\u001b[0;34m\u001b[0m\u001b[0;34m\u001b[0m\u001b[0m\n\u001b[0m\u001b[1;32m     13\u001b[0m \u001b[0;34m\u001b[0m\u001b[0m\n\u001b[1;32m     14\u001b[0m \u001b[0;34m\u001b[0m\u001b[0m\n",
            "\u001b[0;31mTypeError\u001b[0m: 'tuple' object does not support item assignment"
          ]
        }
      ]
    },
    {
      "cell_type": "code",
      "source": [
        "#6 Write a Python program to convert user input from string to integer, float, and boolean types\n",
        "\n",
        "str_1=\"10\"\n",
        "int(str_1) # convert string to integer\n",
        "type(int(str_1))\n",
        "\n",
        "str_2= 4\n",
        "float(str_2)\n",
        "type(float(str_2))\n"
      ],
      "metadata": {
        "colab": {
          "base_uri": "https://localhost:8080/"
        },
        "id": "1qlO231fwzv8",
        "outputId": "6b4e1314-fbfb-4071-85fc-4a0e2e8af8df"
      },
      "execution_count": 15,
      "outputs": [
        {
          "output_type": "execute_result",
          "data": {
            "text/plain": [
              "float"
            ]
          },
          "metadata": {},
          "execution_count": 15
        }
      ]
    },
    {
      "cell_type": "code",
      "source": [
        "# 7 Write a program that checks if a number is positive, negative, or zero\n",
        "\n",
        "number=int(input(\"write number  \"))\n",
        "\n",
        "if number == 0:\n",
        "  print(\"number is zero\")\n",
        "elif number < 0:\n",
        "  print(\"number is negative\")\n",
        "else:\n",
        "  print(\"number is positive\")\n"
      ],
      "metadata": {
        "colab": {
          "base_uri": "https://localhost:8080/"
        },
        "id": "R68tFhPc3Q7H",
        "outputId": "91d80e2e-2153-412c-f4d3-5f9f7f487788"
      },
      "execution_count": 20,
      "outputs": [
        {
          "output_type": "stream",
          "name": "stdout",
          "text": [
            "write number  1\n",
            "number is positive\n"
          ]
        }
      ]
    },
    {
      "cell_type": "code",
      "source": [
        "# 8 Write a for loop to print numbers from 1 to 10\n",
        "\n",
        "for i in range(1,11):\n",
        "  print(i)\n"
      ],
      "metadata": {
        "colab": {
          "base_uri": "https://localhost:8080/"
        },
        "id": "qZEUu04g5XMx",
        "outputId": "062a5bfa-3432-46da-9973-8fa87f2e13f5"
      },
      "execution_count": 21,
      "outputs": [
        {
          "output_type": "stream",
          "name": "stdout",
          "text": [
            "1\n",
            "2\n",
            "3\n",
            "4\n",
            "5\n",
            "6\n",
            "7\n",
            "8\n",
            "9\n",
            "10\n"
          ]
        }
      ]
    },
    {
      "cell_type": "code",
      "source": [
        "# 9 Write a Python program to find the sum of all even numbers between 1 and 50\n",
        "\n",
        "number= 0\n",
        "\n",
        "for i in range(1,51):\n",
        "  if i%2==0:\n",
        "    number=number+i\n",
        "print(number)\n",
        "\n"
      ],
      "metadata": {
        "colab": {
          "base_uri": "https://localhost:8080/"
        },
        "id": "DX3UnTsR5z-T",
        "outputId": "08553752-16c1-42cf-82a4-c458fe3bfaab"
      },
      "execution_count": 25,
      "outputs": [
        {
          "output_type": "stream",
          "name": "stdout",
          "text": [
            "650\n"
          ]
        }
      ]
    },
    {
      "cell_type": "code",
      "source": [],
      "metadata": {
        "id": "k4oX0S_X6RUg"
      },
      "execution_count": null,
      "outputs": []
    }
  ]
}