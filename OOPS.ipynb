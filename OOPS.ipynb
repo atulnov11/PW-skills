{
  "nbformat": 4,
  "nbformat_minor": 0,
  "metadata": {
    "colab": {
      "provenance": []
    },
    "kernelspec": {
      "name": "python3",
      "display_name": "Python 3"
    },
    "language_info": {
      "name": "python"
    }
  },
  "cells": [
    {
      "cell_type": "code",
      "execution_count": null,
      "metadata": {
        "id": "agwGKSRlF6kn"
      },
      "outputs": [],
      "source": []
    },
    {
      "cell_type": "markdown",
      "source": [
        "Q1: What is Object-Oriented Programming (OOP)?\n",
        "A1:\n",
        "Object-Oriented Programming is a programming paradigm based on the concept of \"objects\", which are instances of classes containing both data (attributes) and functions (methods). OOP facilitates modular, reusable, and maintainable code.\n",
        "\n",
        "Q2: What is a class in OOP?\n",
        "A2:\n",
        "A class is a blueprint for creating objects. It defines a set of attributes and methods that the created objects (instances) will have.\n",
        "\n",
        "Q3: What is an object in OOP?\n",
        "A3:\n",
        "An object is an instance of a class. It contains real values for the attributes defined in the class and can use the class's methods.\n",
        "\n",
        "Q4: What is the difference between abstraction and encapsulation?\n",
        "A4:\n",
        "Abstraction hides implementation details and shows only essential features. Encapsulation hides the internal state of an object using access modifiers, allowing controlled access through methods.\n",
        "\n",
        "Q5: What are dunder methods in Python?\n",
        "A5:\n",
        "Dunder (double underscore) methods are special methods in Python like __init__, __str__, and __add__ that allow operator overloading and object behavior customization.\n",
        "\n",
        "Q6: Explain the concept of inheritance in OOP.\n",
        "A6:\n",
        "Inheritance allows a class (child) to acquire properties and methods from another class (parent), promoting code reusability and logical hierarchy.\n",
        "\n",
        "Q7: What is polymorphism in OOP?\n",
        "A7:\n",
        "Polymorphism allows objects of different classes to be treated as objects of a common superclass. It enables methods to perform different tasks based on the object calling them.\n",
        "\n",
        "Q8: How is encapsulation achieved in Python?\n",
        "A8:\n",
        "Encapsulation is achieved by using private attributes (__var) and providing getter/setter methods to control access.\n",
        "\n",
        "Q9: What is a constructor in Python?\n",
        "A9:\n",
        "A constructor is a special method called __init__ in Python that automatically runs when an object is instantiated to initialize the object's attributes.\n",
        "\n",
        "Q10: What are class and static methods in Python?\n",
        "A10:\n",
        "\n",
        "Class methods use the @classmethod decorator and receive cls as an argument.\n",
        "\n",
        "Static methods use @staticmethod and do not access class or instance-specific data.\n",
        "\n",
        "Q11: What is method overloading in Python?\n",
        "A11:\n",
        "Python doesn't support method overloading directly. However, it can be mimicked using default arguments or variable arguments (*args, **kwargs).\n",
        "\n",
        "Q12: What is method overriding in OOP?\n",
        "A12:\n",
        "Method overriding occurs when a subclass provides a specific implementation of a method that is already defined in its superclass.\n",
        "\n",
        "Q13: What is a property decorator in Python?\n",
        "A13:\n",
        "The @property decorator allows a method to be accessed like an attribute, typically used for getter/setter functionality.\n",
        "\n",
        "Q14: Why is polymorphism important in OOP?\n",
        "A14:\n",
        "Polymorphism enhances flexibility and scalability in code by allowing one interface to be used for different underlying types.\n",
        "\n",
        "Q15: What is an abstract class in Python?\n",
        "A15:\n",
        "An abstract class in Python (using abc module) cannot be instantiated and may contain abstract methods that must be implemented in child classes.\n",
        "\n",
        "Q16: What are the advantages of OOP?\n",
        "A16:\n",
        "\n",
        "Code reusability through inheritance\n",
        "\n",
        "Data hiding via encapsulation\n",
        "\n",
        "Modularity and clarity\n",
        "\n",
        "Easy maintenance and scalability\n",
        "\n",
        "Q17: What is the difference between a class variable and an instance variable?\n",
        "A17:\n",
        "\n",
        "Class variable: shared among all instances of the class.\n",
        "\n",
        "Instance variable: unique to each instance.\n",
        "\n",
        "Q18: What is multiple inheritance in Python?\n",
        "A18:\n",
        "Multiple inheritance allows a class to inherit from more than one base class. Python resolves method conflicts using the Method Resolution Order (MRO).\n",
        "\n",
        "Q19: Explain the purpose of __str__ and __repr__ methods in Python.\n",
        "A19:\n",
        "\n",
        "__str__: returns a user-friendly string representation.\n",
        "\n",
        "__repr__: returns an official string representation, often used for debugging.\n",
        "\n",
        "Q20: What is the significance of the super() function in Python?\n",
        "A20:\n",
        "super() is used to call methods from the parent class, especially useful in constructor overriding and multiple inheritance.\n",
        "\n",
        "Q21: What is the significance of the __del__ method in Python?\n",
        "A21:\n",
        "The __del__ method is a destructor called when an object is about to be destroyed. It can be used to release resources, though its use is rare and discouraged for critical cleanups.\n",
        "\n",
        "Q22: What is the difference between @staticmethod and @classmethod in Python?\n",
        "A22:\n",
        "\n",
        "@staticmethod: no access to class or instance; used for utility functions.\n",
        "\n",
        "@classmethod: receives cls, can access/modify class state.\n",
        "\n",
        "Q23: How does polymorphism work in Python with inheritance?\n",
        "A23:\n",
        "Polymorphism allows subclasses to override parent methods, and a common interface can be used to call those methods without knowing the exact subclass.\n",
        "\n",
        "Q24: What is method chaining in Python OOP?\n",
        "A24:\n",
        "Method chaining is when methods return self, allowing multiple method calls in a single statement:\n",
        "\n",
        "Q25: What is the purpose of the __call__ method in Python?\n",
        "A25:\n",
        "The __call__ method allows an instance of a class to be called like a function. It can be used for function-like behavior in objects.\n",
        "\n"
      ],
      "metadata": {
        "id": "a0lbyHKWGBPo"
      }
    },
    {
      "cell_type": "code",
      "source": [
        "#Create a parent class Animal with a method speak() that prints a generic message. Create a child class Dog that overrides the speak() method to print \"Bark!\".\n",
        "\n",
        "class Animal:\n",
        "    def speak(self):\n",
        "        print(\"Animal makes a sound\")\n",
        "\n",
        "class Dog(Animal):\n",
        "    def speak(self):\n",
        "        print(\"Bark!\")\n"
      ],
      "metadata": {
        "id": "AQWTMFi8Hpgu"
      },
      "execution_count": null,
      "outputs": []
    },
    {
      "cell_type": "code",
      "source": [
        "# Write a program to create an abstract class Shape with a method area(). Derive classes Circle and Rectangle from it and implement the area() method in both.\n",
        "\n",
        "from abc import ABC, abstractmethod\n",
        "\n",
        "class Shape(ABC):\n",
        "    @abstractmethod\n",
        "    def area(self):\n",
        "        pass\n",
        "\n",
        "class Circle(Shape):\n",
        "    def __init__(self, radius):\n",
        "        self.radius = radius\n",
        "\n",
        "    def area(self):\n",
        "        return 3.14 * self.radius ** 2\n",
        "\n",
        "class Rectangle(Shape):\n",
        "    def __init__(self, length, breadth):\n",
        "        self.length = length\n",
        "        self.breadth = breadth\n",
        "\n",
        "    def area(self):\n",
        "        return self.length * self.breadth\n",
        "\n"
      ],
      "metadata": {
        "id": "ToutL2bRHx2d"
      },
      "execution_count": null,
      "outputs": []
    },
    {
      "cell_type": "code",
      "source": [
        "# Implement a multi-level inheritance scenario where a class Vehicle has an attribute type. Derive a class Car and further derive a class ElectricCar that adds a battery attribute.\n",
        "\n",
        "class Vehicle:\n",
        "    def __init__(self, type):\n",
        "        self.type = type\n",
        "\n",
        "class Car(Vehicle):\n",
        "    def __init__(self, type, brand):\n",
        "        super().__init__(type)\n",
        "        self.brand = brand\n",
        "\n",
        "class ElectricCar(Car):\n",
        "    def __init__(self, type, brand, battery):\n",
        "        super().__init__(type, brand)\n",
        "        self.battery = battery\n"
      ],
      "metadata": {
        "id": "-GBpImdEIBBl"
      },
      "execution_count": null,
      "outputs": []
    },
    {
      "cell_type": "code",
      "source": [
        "# Demonstrate polymorphism by creating a base class Bird with a method fly(). Create two derived classes Sparrow and Penguin that override the fly() method.\n",
        "\n",
        "\n",
        "class Bird:\n",
        "    def fly(self):\n",
        "        print(\"Some birds can fly\")\n",
        "\n",
        "class Sparrow(Bird):\n",
        "    def fly(self):\n",
        "        print(\"Sparrow flies in the sky\")\n",
        "\n",
        "class Penguin(Bird):\n",
        "    def fly(self):\n",
        "        print(\"Penguin can't fly\")\n",
        "\n",
        "\n"
      ],
      "metadata": {
        "id": "1ahwC8k_IKXU"
      },
      "execution_count": null,
      "outputs": []
    },
    {
      "cell_type": "code",
      "source": [
        "# Write a program to demonstrate encapsulation by creating a class BankAccount with private attributes balance and methods to deposit, withdraw, and check balance.\n",
        "\n",
        "class BankAccount:\n",
        "    def __init__(self):\n",
        "        self.__balance = 0\n",
        "\n",
        "    def deposit(self, amount):\n",
        "        self.__balance += amount\n",
        "\n",
        "    def withdraw(self, amount):\n",
        "        if amount <= self.__balance:\n",
        "            self.__balance -= amount\n",
        "        else:\n",
        "            print(\"Insufficient balance\")\n",
        "\n",
        "    def check_balance(self):\n",
        "        return self.__balance\n"
      ],
      "metadata": {
        "id": "8NPDH_fdIPTF"
      },
      "execution_count": null,
      "outputs": []
    },
    {
      "cell_type": "code",
      "source": [
        "# Demonstrate runtime polymorphism using a method play() in a base class Instrument. Derive classes Guitar and Piano that implement their own version of play().\n",
        "\n",
        "class Instrument:\n",
        "    def play(self):\n",
        "        print(\"Instrument is playing\")\n",
        "\n",
        "class Guitar(Instrument):\n",
        "    def play(self):\n",
        "        print(\"Strumming the guitar\")\n",
        "\n",
        "class Piano(Instrument):\n",
        "    def play(self):\n",
        "        print(\"Playing the piano\")\n"
      ],
      "metadata": {
        "id": "tcfG7b3NITV9"
      },
      "execution_count": null,
      "outputs": []
    },
    {
      "cell_type": "code",
      "source": [
        "# Create a class MathOperations with a class method add_numbers() to add two numbers and a static method subtract_numbers() to subtract two numbers.\n",
        "\n",
        "class MathOperations:\n",
        "    @classmethod\n",
        "    def add_numbers(cls, a, b):\n",
        "        return a + b\n",
        "\n",
        "    @staticmethod\n",
        "    def subtract_numbers(a, b):\n",
        "        return a - b\n"
      ],
      "metadata": {
        "id": "tFq5LKXuIX6M"
      },
      "execution_count": null,
      "outputs": []
    },
    {
      "cell_type": "code",
      "source": [
        "# Implement a class Person with a class method to count the total number of persons created.\n",
        "\n",
        "class Person:\n",
        "    count = 0\n",
        "\n",
        "    def __init__(self):\n",
        "        Person.count += 1\n",
        "\n",
        "    @classmethod\n",
        "    def total_persons(cls):\n",
        "        return cls.count\n"
      ],
      "metadata": {
        "id": "HIvgrK8BIbcs"
      },
      "execution_count": null,
      "outputs": []
    },
    {
      "cell_type": "code",
      "source": [
        "# Write a class Fraction with attributes numerator and denominator. Override the str method to display the fraction as \"numerator/denominator\".\n",
        "\n",
        "class Fraction:\n",
        "    def __init__(self, numerator, denominator):\n",
        "        self.numerator = numerator\n",
        "        self.denominator = denominator\n",
        "\n",
        "    def __str__(self):\n",
        "        return f\"{self.numerator}/{self.denominator}\"\n"
      ],
      "metadata": {
        "id": "d2WK6MZUIhv9"
      },
      "execution_count": null,
      "outputs": []
    },
    {
      "cell_type": "code",
      "source": [
        "# Demonstrate operator overloading by creating a class Vector and overriding the add method to add two vectors.\n",
        "\n",
        "class Vector:\n",
        "    def __init__(self, x, y):\n",
        "        self.x = x\n",
        "        self.y = y\n",
        "\n",
        "    def __add__(self, other):\n",
        "        return Vector(self.x + other.x, self.y + other.y)\n",
        "\n",
        "    def __str__(self):\n",
        "        return f\"({self.x}, {self.y})\"\n"
      ],
      "metadata": {
        "id": "qRTy9JxBIkB1"
      },
      "execution_count": 1,
      "outputs": []
    },
    {
      "cell_type": "code",
      "source": [
        " # Create a class Person with attributes name and age. Add a method greet() that prints \"Hello, my name is {name} and I am {age} years old.\"\n",
        "\n",
        "class Person:\n",
        "    def __init__(self, name, age):\n",
        "        self.name = name\n",
        "        self.age = age\n",
        "\n",
        "    def greet(self):\n",
        "        print(f\"Hello, my name is {self.name} and I am {self.age} years old.\")\n"
      ],
      "metadata": {
        "id": "XMTiA_TlI060"
      },
      "execution_count": null,
      "outputs": []
    },
    {
      "cell_type": "code",
      "source": [
        "# Implement a class Student with attributes name and grades. Create a method average_grade() to compute the average of the grades.\n",
        "\n",
        "class Student:\n",
        "    def __init__(self, name, grades):\n",
        "        self.name = name\n",
        "        self.grades = grades\n",
        "\n",
        "    def average_grade(self):\n",
        "        return sum(self.grades) / len(self.grades)\n",
        "\n"
      ],
      "metadata": {
        "id": "l5QX5j-dI8-c"
      },
      "execution_count": null,
      "outputs": []
    },
    {
      "cell_type": "code",
      "source": [
        "# Create a class Rectangle with methods set_dimensions() to set the dimensions and area() to calculate the area.\n",
        "\n",
        "class Rectangle:\n",
        "    def set_dimensions(self, length, breadth):\n",
        "        self.length = length\n",
        "        self.breadth = breadth\n",
        "\n",
        "    def area(self):\n",
        "        return self.length * self.breadth"
      ],
      "metadata": {
        "id": "8xOiDU_7JC8E"
      },
      "execution_count": null,
      "outputs": []
    },
    {
      "cell_type": "code",
      "source": [
        "# Create a class Employee with a method calculate_salary() that computes the salary based on hours worked and hourly rate. Create a derived class Manager that adds a bonus to the salary.\n",
        "\n",
        "class Employee:\n",
        "    def __init__(self, hours, rate):\n",
        "        self.hours = hours\n",
        "        self.rate = rate\n",
        "\n",
        "    def calculate_salary(self):\n",
        "        return self.hours * self.rate\n",
        "\n",
        "class Manager(Employee):\n",
        "    def __init__(self, hours, rate, bonus):\n",
        "        super().__init__(hours, rate)\n",
        "        self.bonus = bonus\n",
        "\n",
        "    def calculate_salary(self):\n",
        "        return super().calculate_salary() + self.bonus\n"
      ],
      "metadata": {
        "id": "_bDqPFx9JJ-F"
      },
      "execution_count": null,
      "outputs": []
    },
    {
      "cell_type": "code",
      "source": [
        "# Create a class Product with attributes name, price, and quantity. Implement a method total_price() that calculates the total price of the product.\n",
        "\n",
        "class Product:\n",
        "    def __init__(self, name, price, quantity):\n",
        "        self.name = name\n",
        "        self.price = price\n",
        "        self.quantity = quantity\n",
        "\n",
        "    def total_price(self):\n",
        "        return self.price * self.quantity\n",
        "\n",
        "# Example usage:\n",
        "p = Product(\"Laptop\", 50000, 2)\n",
        "print(\"Total Price:\", p.total_price())\n",
        "\n"
      ],
      "metadata": {
        "id": "PZV_i1TQJXxl"
      },
      "execution_count": null,
      "outputs": []
    },
    {
      "cell_type": "code",
      "source": [
        "# Create a class Animal with an abstract method sound(). Create two derived classes Cow and Sheep that implement the sound() method.\n",
        "\n",
        "from abc import ABC, abstractmethod\n",
        "\n",
        "class Animal(ABC):\n",
        "    @abstractmethod\n",
        "    def sound(self):\n",
        "        pass\n",
        "\n",
        "class Cow(Animal):\n",
        "    def sound(self):\n",
        "        print(\"Moo\")\n",
        "\n",
        "class Sheep(Animal):\n",
        "    def sound(self):\n",
        "        print(\"Baa\")\n",
        "\n",
        "# Example usage:\n",
        "c = Cow()\n",
        "c.sound()  # Output: Moo\n",
        "\n",
        "s = Sheep()\n",
        "s.sound()  # Output: Baa\n"
      ],
      "metadata": {
        "id": "sNnHi2gsJibE"
      },
      "execution_count": null,
      "outputs": []
    },
    {
      "cell_type": "code",
      "source": [],
      "metadata": {
        "id": "bx_0OM3OJmiU"
      },
      "execution_count": null,
      "outputs": []
    }
  ]
}