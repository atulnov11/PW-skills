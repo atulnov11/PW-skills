{
  "nbformat": 4,
  "nbformat_minor": 0,
  "metadata": {
    "colab": {
      "provenance": []
    },
    "kernelspec": {
      "name": "python3",
      "display_name": "Python 3"
    },
    "language_info": {
      "name": "python"
    }
  },
  "cells": [
    {
      "cell_type": "markdown",
      "source": [
        "#Files, exceptional handling, logging and memory management Questions"
      ],
      "metadata": {
        "id": "dZzcYcQTGNZp"
      }
    },
    {
      "cell_type": "markdown",
      "source": [
        "1) What  is the difference between interpreted and compiled languages?\n",
        "\n",
        "- Compiled languages are translated into machine code before execution, while interpreted languages are executed line-by-line by an interpreter.\n",
        "\n",
        "2) What is exception handling in Python ?\n",
        "- Exception Handling is the way of handling errors in python to prevent the run time error. It is used by try, except, else.\n",
        "\n",
        "3)What is the purpose of the finally block in exception handling?\n",
        "The finally block ensures that cleanup code runs, regardless of whether an exception occurred.\n",
        "\n",
        "4) What is logging in Python?\n",
        "Logging records events that happen during execution, useful for debugging and monitoring.\n",
        "\n",
        "5) What is the significance of the __del__ method in Python?\n",
        "It is used to delete or destroy the object.\n",
        "\n",
        "6) What is the difference between import and from ... import in Python ?\n",
        " - Import is used to bring or load the library in the python file and from import is used to use the library defined function or module.\n",
        "\n",
        "7) How can you handle multiple exceptions in Python?\n",
        "- Use multiple except blocks or a tuple of exceptions in a single block.\n",
        "\n",
        "8)  What is the purpose of the with statement when handling files in Python?\n",
        "- It simplifies file handling by automatically closing the file after its block is executed.\n",
        "\n",
        "9) What is the difference between multithreading and multiprocessing?\n",
        "- NA\n",
        "\n",
        "10) 10. What are the advantages of using logging in a program?\n",
        "- Helps in debugging\n",
        "\n",
        "11)What is memory management in Python?\n",
        "-Na\n",
        "\n",
        "12) What are the basic steps involved in exception handling in Python?\n",
        "- Use try to wrap code, except to catch errors, else for success, and finally for cleanup.\n",
        "\n",
        "13) Why is memory management important in Python?\n",
        "It prevents memory leaks and ensures efficient resource use, keeping programs fast and stable.\n",
        "\n",
        "14) What is the role of try and except in exception handling?\n",
        "try runs the code that may fail, and except catches and handles the error.\n",
        "\n",
        "15) How does Python's garbage collection system work?\n",
        "It uses reference counting and a cyclic garbage collector to free unused memory.\n",
        "\n",
        "16) What is the purpose of the else block in exception handling?\n",
        "else runs if no exception occurs in the try block.\n",
        "\n",
        "17)What are the common logging levels in Python?\n",
        "DEBUG, INFO, WARNING, ERROR, and CRITICAL are the main logging levels.\n",
        "\n",
        "18) What is the difference between os.fork() and multiprocessing in Python?\n",
        "os.fork() creates a child process in Unix; multiprocessing is a cross-platform module for parallel tasks.\n",
        "\n",
        "19)What is the importance of closing a file in Python?\n",
        "It frees system resources and ensures all data is written and saved correctly.\n",
        "\n",
        "20) What is the difference between file.read() and file.readline() in Python?\n",
        "read() reads the entire file; readline() reads one line at a time.\n",
        "\n",
        "21) What is the logging module in Python used for?\n",
        "It allows developers to log messages for debugging, monitoring, and tracking events.\n",
        "\n",
        "22) What is the os module in Python used for in file handling?\n",
        "It provides functions to interact with the operating system, like file and directory management.\n",
        "\n",
        "23) What are the challenges associated with memory management in Python?\n",
        "Challenges include managing circular references, memory leaks, and high memory usage in large apps.\n",
        "\n",
        "24) How do you raise an exception manually in Python?\n",
        "Use the raise keyword followed by the exception type, e.g., raise ValueError(\"message\").\n",
        "\n",
        "25) Why is it important to use multithreading in certain applications?\n",
        "Multithreading improves performance in I/O-bound tasks by running multiple threads concurrently."
      ],
      "metadata": {
        "id": "UsihJoWUGZD2"
      }
    },
    {
      "cell_type": "code",
      "source": [
        "# 1) How can you open a file for writing in Python and write a string to it\n",
        "\n",
        "f=open(\"file.txt\",\"w\")\n",
        "f.write(\"Hello World\")\n",
        "f.close()"
      ],
      "metadata": {
        "id": "Le-V59TXLsUu"
      },
      "execution_count": null,
      "outputs": []
    },
    {
      "cell_type": "code",
      "source": [
        "# 2)Write a Python program to read the contents of a file and print each line\n",
        "\n",
        "f=open(\"file.txt\",\"r\")\n",
        "print(f.read())"
      ],
      "metadata": {
        "id": "Mge16SGdL183"
      },
      "execution_count": null,
      "outputs": []
    },
    {
      "cell_type": "code",
      "source": [
        " # 3) How would you handle a case where the file doesn't exist while trying to open it for reading\n",
        "\n",
        "  f= \"example.csv\"\n",
        "\n",
        "  try:\n",
        "    r=open(f,\"r\")\n",
        "    print(r.read())\n",
        "  except FileNotFoundError:\n",
        "    print(\"File not found\")"
      ],
      "metadata": {
        "id": "RovQhguwL__E"
      },
      "execution_count": null,
      "outputs": []
    },
    {
      "cell_type": "code",
      "source": [
        "# 4)  Write a Python script that reads from one file and writes its content to another file?\n",
        "\n",
        "# File names\n",
        "source_file = 'source.txt'\n",
        "destination_file = 'destination.txt'\n",
        "\n",
        "source = open('source.txt', 'r')\n",
        "data = source.read()\n",
        "source.close()\n",
        "\n",
        "# Open the destination file for writing\n",
        "destination = open('destination.txt', 'w')\n",
        "destination.write(data)\n",
        "destination.close()\n"
      ],
      "metadata": {
        "id": "N45lAVfgM0De"
      },
      "execution_count": null,
      "outputs": []
    },
    {
      "cell_type": "code",
      "source": [
        "# 5) How would you catch and handle division by zero error in Python.\n",
        "\n",
        "try:\n",
        "    numerator = 10\n",
        "    denominator = 0\n",
        "    result = numerator / denominator\n",
        "except ZeroDivisionError:\n",
        "    print(\"Error: Cannot divide by zero!\")\n",
        "else:\n",
        "    print(\"Result is:\", result)"
      ],
      "metadata": {
        "id": "0Ljg23pJNg5T"
      },
      "execution_count": null,
      "outputs": []
    },
    {
      "cell_type": "code",
      "source": [
        "# 6) Write a Python program that logs an error message to a log file when a division by zero exception occurs.\n",
        "#NA"
      ],
      "metadata": {
        "id": "SQ9tm2I4NrxJ"
      },
      "execution_count": null,
      "outputs": []
    },
    {
      "cell_type": "code",
      "source": [
        "# How do you log information at different levels (INFO, ERROR, WARNING) in Python using the logging module\n",
        "# NA"
      ],
      "metadata": {
        "id": "Q2CxcGOAMpiX"
      },
      "execution_count": null,
      "outputs": []
    },
    {
      "cell_type": "code",
      "source": [
        "#  Write a program to handle a file opening error using exception handling\n",
        "filename = \"non_existing_file.txt\"\n",
        "\n",
        "try:\n",
        "    file = open(filename, \"r\")  # Attempt to open file for reading\n",
        "    content = file.read()\n",
        "    print(content)\n",
        "    file.close()\n",
        "except FileNotFoundError:\n",
        "    print(f\"Error: The file '{filename}' was not found.\")\n",
        "\n",
        "else:\n",
        "  print(\"file opened\")"
      ],
      "metadata": {
        "id": "caqHBnGUM8Ww"
      },
      "execution_count": null,
      "outputs": []
    },
    {
      "cell_type": "code",
      "source": [
        " #How can you read a file line by line and store its content in a list in Python\n",
        "\n",
        "# File path\n",
        "file_path = 'your_file.txt'\n",
        "\n",
        "# Initialize an empty list to store lines\n",
        "lines_list = []\n",
        "\n",
        "try:\n",
        "    file = open(file_path, 'r')  # Open file for reading\n",
        "    for line in file:\n",
        "        lines_list.append(line.strip())  # Remove newline characters and add to list\n",
        "    file.close()\n",
        "except FileNotFoundError:\n",
        "    print(\"File not found.\")\n",
        "\n",
        "# Print the list of lines\n",
        "print(lines_list)\n"
      ],
      "metadata": {
        "colab": {
          "base_uri": "https://localhost:8080/",
          "height": 211
        },
        "id": "e-qwChLYN2E6",
        "outputId": "cd37127b-4252-4eed-f2a9-260aeb4ef9ac"
      },
      "execution_count": 1,
      "outputs": [
        {
          "output_type": "error",
          "ename": "NameError",
          "evalue": "name 'read_file' is not defined",
          "traceback": [
            "\u001b[0;31m---------------------------------------------------------------------------\u001b[0m",
            "\u001b[0;31mNameError\u001b[0m                                 Traceback (most recent call last)",
            "\u001b[0;32m<ipython-input-1-c4c469778ad7>\u001b[0m in \u001b[0;36m<cell line: 0>\u001b[0;34m()\u001b[0m\n\u001b[1;32m      3\u001b[0m \u001b[0mfile_name\u001b[0m\u001b[0;34m=\u001b[0m\u001b[0;34m\"file.txt\"\u001b[0m\u001b[0;34m\u001b[0m\u001b[0;34m\u001b[0m\u001b[0m\n\u001b[1;32m      4\u001b[0m \u001b[0;34m\u001b[0m\u001b[0m\n\u001b[0;32m----> 5\u001b[0;31m \u001b[0mf\u001b[0m\u001b[0;34m=\u001b[0m\u001b[0mread_file\u001b[0m\u001b[0;34m.\u001b[0m\u001b[0mtxt\u001b[0m\u001b[0;34m(\u001b[0m\u001b[0;34m\"file.txt\"\u001b[0m\u001b[0;34m,\u001b[0m\u001b[0;34m\"r\"\u001b[0m\u001b[0;34m)\u001b[0m\u001b[0;34m\u001b[0m\u001b[0;34m\u001b[0m\u001b[0m\n\u001b[0m\u001b[1;32m      6\u001b[0m \u001b[0mlines\u001b[0m\u001b[0;34m=\u001b[0m\u001b[0mf\u001b[0m\u001b[0;34m.\u001b[0m\u001b[0mreadlines\u001b[0m\u001b[0;34m(\u001b[0m\u001b[0;34m)\u001b[0m\u001b[0;34m\u001b[0m\u001b[0;34m\u001b[0m\u001b[0m\n\u001b[1;32m      7\u001b[0m \u001b[0mprint\u001b[0m\u001b[0;34m(\u001b[0m\u001b[0mlines\u001b[0m\u001b[0;34m)\u001b[0m\u001b[0;34m\u001b[0m\u001b[0;34m\u001b[0m\u001b[0m\n",
            "\u001b[0;31mNameError\u001b[0m: name 'read_file' is not defined"
          ]
        }
      ]
    },
    {
      "cell_type": "code",
      "source": [
        "# prompt: How can you append data to an existing file in Python\n",
        "\n",
        "# Data to append\n",
        "data = \"This is a new line of text.\\n\"\n",
        "\n",
        "# Open the file in append mode\n",
        "try:\n",
        "    file = open('your_file.txt', 'a')\n",
        "    file.write(data)\n",
        "    file.close()\n",
        "    print(\"Data appended successfully.\")\n",
        "except Exception as e:\n",
        "    print(\"An error occurred:\", e)\n"
      ],
      "metadata": {
        "id": "9Ecy1wABO1Ga"
      },
      "execution_count": null,
      "outputs": []
    },
    {
      "cell_type": "code",
      "source": [
        "# Write a Python program that uses a try-except block to handle an error when attempting to access a dictionary key that doesn't exist\n",
        "\n",
        "# Sample dictionary\n",
        "person = {\n",
        "    \"name\": \"Alice\",\n",
        "    \"age\": 30\n",
        "}\n",
        "\n",
        "# Try to access a key that may not exist\n",
        "try:\n",
        "    print(\"Name:\", person[\"name\"])\n",
        "    print(\"City:\", person[\"city\"])  # This key does not exist\n",
        "except KeyError as e:\n",
        "    print(f\"Error: The key {e} does not exist in the dictionary.\")\n"
      ],
      "metadata": {
        "id": "ALpNzj4mPSIs"
      },
      "execution_count": null,
      "outputs": []
    },
    {
      "cell_type": "code",
      "source": [
        "# Write a program that demonstrates using multiple except blocks to handle different types of exceptions\n",
        "\n",
        "try:\n",
        "    # Get input from user and convert to integer\n",
        "    num = int(input(\"Enter a number: \"))\n",
        "\n",
        "    # Perform a division\n",
        "    result = 10 / num\n",
        "\n",
        "    # Try to access a dictionary key\n",
        "    data = {\"name\": \"Atul\"}\n",
        "    print(\"City:\", data[\"city\"])  # KeyError\n",
        "\n",
        "except ValueError:\n",
        "    print(\"ValueError: Invalid input. Please enter a numeric value.\")\n",
        "\n",
        "except ZeroDivisionError:\n",
        "    print(\"ZeroDivisionError: Cannot divide by zero.\")\n",
        "\n",
        "except KeyError as e:\n",
        "    print(f\"KeyError: The key {e} does not exist in the dictionary.\")\n",
        "\n",
        "except Exception as e:\n",
        "    print(f\"Unexpected error occurred: {e}\")\n"
      ],
      "metadata": {
        "id": "no9dM5kjQNWX"
      },
      "execution_count": null,
      "outputs": []
    },
    {
      "cell_type": "code",
      "source": [
        "# prompt: How would you check if a file exists before attempting to read it in Python\n",
        "\n",
        "import os\n",
        "\n",
        "filename = \"your_file.txt\"\n",
        "\n",
        "if os.path.exists(filename):\n",
        "  try:\n",
        "    with open(filename, 'r') as f:\n",
        "      content = f.read()\n",
        "      print(content)\n",
        "  except IOError as e:\n",
        "    print(f\"An error occurred while reading the file: {e}\")\n",
        "else:\n",
        "  print(f\"The file '{filename}' does not exist.\")\n",
        "\n"
      ],
      "metadata": {
        "id": "AscuLlDjQTMS"
      },
      "execution_count": null,
      "outputs": []
    },
    {
      "cell_type": "code",
      "source": [
        "# How would you check if a file exists before attempting to read it in Python\n",
        "import os\n",
        "\n",
        "filename = \"your_file.txt\"\n",
        "\n",
        "if os.path.exists(filename):\n",
        "  try:\n",
        "    with open(filename, 'r') as f:\n",
        "      content = f.read()\n",
        "      print(content)\n",
        "  except IOError as e:\n",
        "    print(f\"An error occurred while reading the file: {e}\")\n",
        "else:\n",
        "  print(f\"The file '{filename}' does not exist.\")\n"
      ],
      "metadata": {
        "colab": {
          "base_uri": "https://localhost:8080/"
        },
        "id": "h01XLsqjQeDh",
        "outputId": "66efd64c-70b3-4e9e-c701-6894246ab7aa"
      },
      "execution_count": 2,
      "outputs": [
        {
          "output_type": "stream",
          "name": "stdout",
          "text": [
            "The file 'your_file.txt' does not exist.\n"
          ]
        }
      ]
    },
    {
      "cell_type": "code",
      "source": [
        "# Write a program that uses the logging module to log both informational and error messages\n",
        "#NA"
      ],
      "metadata": {
        "id": "tMp7ntF-QjO6"
      },
      "execution_count": null,
      "outputs": []
    },
    {
      "cell_type": "code",
      "source": [
        "# prompt: #Write a Python program that prints the content of a file and handles the case when the file is empty\n",
        "\n",
        "def print_file_content(filename):\n",
        "  \"\"\"\n",
        "  Prints the content of a file, handling empty files.\n",
        "\n",
        "  Args:\n",
        "    filename: The path to the file.\n",
        "  \"\"\"\n",
        "  try:\n",
        "    with open(filename, 'r') as f:\n",
        "      content = f.read()\n",
        "      if not content:\n",
        "        print(f\"The file '{filename}' is empty.\")\n",
        "      else:\n",
        "        print(content)\n",
        "  except FileNotFoundError:\n",
        "    print(f\"Error: The file '{filename}' was not found.\")\n",
        "  except IOError as e:\n",
        "    print(f\"An error occurred while reading the file: {e}\")\n",
        "\n",
        "# Example usage:\n",
        "# Create a dummy file for testing\n",
        "with open(\"test_file.txt\", \"w\") as f:\n",
        "  f.write(\"This is a test file with some content.\")\n",
        "\n",
        "print(\"Content of 'test_file.txt':\")\n",
        "print_file_content(\"test_file.txt\")\n",
        "\n",
        "# Create an empty file for testing\n",
        "with open(\"empty_file.txt\", \"w\") as f:\n",
        "  pass # Creates an empty file\n",
        "\n",
        "print(\"\\nContent of 'empty_file.txt':\")\n",
        "print_file_content(\"empty_file.txt\")\n",
        "\n",
        "print(\"\\nContent of 'non_existent_file.txt':\")\n",
        "print_file_content(\"non_existent_file.txt\")\n"
      ],
      "metadata": {
        "id": "79JD_btJQysv"
      },
      "execution_count": null,
      "outputs": []
    },
    {
      "cell_type": "code",
      "source": [
        "#Demonstrate how to use memory profiling to check the memory usage of a small program"
      ],
      "metadata": {
        "id": "ki6HmHfwRCSN"
      },
      "execution_count": null,
      "outputs": []
    },
    {
      "cell_type": "code",
      "source": [
        "# prompt: Write a Python program to create and write a list of numbers to a file, one number per line\n",
        "\n",
        "numbers = [10, 20, 30, 40, 50]\n",
        "filename = \"numbers.txt\"\n",
        "\n",
        "try:\n",
        "  with open(filename, 'w') as f:\n",
        "    for number in numbers:\n",
        "      f.write(str(number) + '\\n')\n",
        "  print(f\"Numbers successfully written to {filename}\")\n",
        "except IOError as e:\n",
        "  print(f\"An error occurred while writing to the file: {e}\")"
      ],
      "metadata": {
        "id": "zTPmmPP1RHWP"
      },
      "execution_count": null,
      "outputs": []
    },
    {
      "cell_type": "code",
      "source": [
        "# How would you implement a basic logging setup that logs to a file with rotation after 1MB"
      ],
      "metadata": {
        "id": "vbV5FWBmRO7z"
      },
      "execution_count": null,
      "outputs": []
    },
    {
      "cell_type": "code",
      "source": [
        "# prompt: Write a program that handles both IndexError and KeyError using a try-except block\n",
        "\n",
        "my_list = [1, 2, 3]\n",
        "my_dict = {'a': 1, 'b': 2}\n",
        "\n",
        "try:\n",
        "  # Attempt to access an index that does not exist\n",
        "  print(my_list[3])\n",
        "  # Attempt to access a key that does not exist\n",
        "  print(my_dict['c'])\n",
        "except (IndexError, KeyError) as e:\n",
        "  print(f\"Caught an error: {e}\")"
      ],
      "metadata": {
        "id": "cV-imqfdRUJ9"
      },
      "execution_count": null,
      "outputs": []
    },
    {
      "cell_type": "code",
      "source": [
        "# How would you open a file and read its contents using a context manager in Python"
      ],
      "metadata": {
        "id": "jN7i_sAGRqPg"
      },
      "execution_count": null,
      "outputs": []
    },
    {
      "cell_type": "code",
      "source": [
        "# prompt:  Write a Python program that reads a file and prints the number of occurrences of a specific word\n",
        "\n",
        "filename = \"your_file.txt\"\n",
        "word_to_find = \"Python\"\n",
        "word_count = 0\n",
        "\n",
        "try:\n",
        "  with open(filename, 'r') as f:\n",
        "    content = f.read()\n",
        "    words = content.split()\n",
        "    for word in words:\n",
        "      # Case-insensitive comparison\n",
        "      if word.lower() == word_to_find.lower():\n",
        "        word_count += 1\n",
        "  print(f\"The word '{word_to_find}' appears {word_count} times in '{filename}'.\")\n",
        "except FileNotFoundError:\n",
        "  print(f\"Error: The file '{filename}' was not found.\")\n",
        "except IOError as e:\n",
        "  print(f\"An error occurred while reading the file: {e}\")\n",
        "\n"
      ],
      "metadata": {
        "colab": {
          "base_uri": "https://localhost:8080/"
        },
        "id": "WvBf5-vyRsuu",
        "outputId": "a7dc024f-87c1-4f39-9620-2a332e32c070"
      },
      "execution_count": 3,
      "outputs": [
        {
          "output_type": "stream",
          "name": "stdout",
          "text": [
            "Error: The file 'your_file.txt' was not found.\n"
          ]
        }
      ]
    },
    {
      "cell_type": "code",
      "source": [
        "# prompt:  # How can you check if a file is empty before attempting to read its contents\n",
        "\n",
        "filename = \"your_file.txt\"\n",
        "\n",
        "try:\n",
        "  with open(filename, 'r') as f:\n",
        "    content = f.read()\n",
        "    if not content:\n",
        "      print(f\"The file '{filename}' is empty.\")\n",
        "    else:\n",
        "      print(f\"The file '{filename}' contains the following content:\")\n",
        "      print(content)\n",
        "except FileNotFoundError:\n",
        "  print(f\"Error: The file '{filename}' was not found.\")\n"
      ],
      "metadata": {
        "id": "eJJpfTJsSE3G"
      },
      "execution_count": null,
      "outputs": []
    }
  ]
}