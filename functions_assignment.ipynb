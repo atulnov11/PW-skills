{
  "nbformat": 4,
  "nbformat_minor": 0,
  "metadata": {
    "colab": {
      "provenance": []
    },
    "kernelspec": {
      "name": "python3",
      "display_name": "Python 3"
    },
    "language_info": {
      "name": "python"
    }
  },
  "cells": [
    {
      "cell_type": "code",
      "execution_count": null,
      "metadata": {
        "id": "MXv4q8lrGY1x"
      },
      "outputs": [],
      "source": []
    },
    {
      "cell_type": "markdown",
      "source": [
        "Note: For each theory Question, give at least one example.\n",
        "\n",
        "1. What is the difference between a function and a method in Python?\n",
        "   - Functions are block of reusable code ex -\n",
        "      def add(a, b):\n",
        "      return a + b\n",
        "      result = add(2, 3)\n",
        "\n",
        "    - Method is a called on an object -\n",
        "      ex - print(\"Hello\")\n",
        "\n",
        "\n",
        "\n",
        "2. Explain the concept of function arguments and parameters in Python.\n",
        "   - parameters are defined inside the functions when the functions are defined.\n",
        "      ex -\n",
        "          def addition(a,b):\n",
        "          print(a+b)\n",
        "\n",
        "   - Arguments are passed into the function when you call it\n",
        "     ex - addtion(1,2)\n",
        "\n",
        "3. What are the different ways to define and call a function in Python?\n",
        "  - functions are defined with syntax dex funtion_name\n",
        "    ex - def greet(name)\n",
        "              print(f\"Hello\",{name})\n",
        "\n",
        "  - calling the function is defined by calling the function as\n",
        "    - greet(\"Ajay\")\n",
        "\n",
        "4. What is the purpose of the `return` statement in a Python function?\n",
        "  - The return statement in a Python function is used to send a result back to the place where the function was called.\n",
        "\n",
        "  ex - def add(a, b):\n",
        "    return a + b\n",
        "    result = add(2, 3)\n",
        "    print(result)\n",
        "\n",
        "\n",
        "5. What are iterators in Python and how do they differ from iterables?\n",
        "   - An iterable is any object you can loop over (like with a for loop)\n",
        "   - An iterator is an object that keeps track of where it is in a sequence.\n",
        "\n",
        "6. Explain the concept of generators in Python and how they are defined.\n",
        "   - A generator is a special type of iterator that allows you to generate values on the fly, instead of storing them all in memory.\n",
        "\n",
        "7. What are the advantages of using generators over regular functions?\n",
        "  - Generators have several advantages over regular functions, especially when working with large data or streams of data.\n",
        "\n",
        "8. What is a lambda function in Python and when is it typically used?\n",
        "  - A lambda function uses arguments and expression\n",
        "    Ex - add = lambda a, b: a + b\n",
        "  \n",
        "\n",
        "9. Explain the purpose and usage of the `map()` function in Python.\n",
        "  - Map function is used where we apply function to each objetc in the list, tupple i.e iterable.\n",
        "  ex - def double(x):\n",
        "        return x * 2\n",
        "      \n",
        "      numbers = [1, 2, 3]\n",
        "      result = map(double, numbers)\n",
        "      print(list(result))  # Output: [2, 4, 6]\n",
        "\n",
        "\n",
        "\n",
        "10. What is the difference between `map()`, `reduce()`, and `filter()` functions in Python?\n",
        " - map() - function Transforms each item in the iterable.\n",
        " - Filter() -  Filters items based on a condition (function returns True/False).\n",
        " - reduce() - Reduces the iterable to a single value by applying the function cumulatively.\n",
        "\n",
        "\n",
        "\n",
        "\n"
      ],
      "metadata": {
        "id": "VHkcWvhNGhiz"
      }
    },
    {
      "cell_type": "code",
      "source": [
        "# Practical Questions:\n",
        "# 1. Write a Python function that takes a list of numbers as input and returns the sum of all even numbers in the list.\n",
        "\n",
        "def sum_even_numbers(numbers):\n",
        "    return sum(num for num in numbers if num % 2 == 0)\n",
        "\n",
        "nums = [1, 2, 3, 4, 5, 6]\n",
        "print(sum_even_numbers(nums))  # Output: 12 (2 + 4 + 6)\n",
        "\n"
      ],
      "metadata": {
        "colab": {
          "base_uri": "https://localhost:8080/"
        },
        "id": "nqT_lm2HS4HU",
        "outputId": "30a15169-a529-471a-a51e-bfa097d8ade4"
      },
      "execution_count": 7,
      "outputs": [
        {
          "output_type": "stream",
          "name": "stdout",
          "text": [
            "12\n"
          ]
        }
      ]
    },
    {
      "cell_type": "markdown",
      "source": [],
      "metadata": {
        "id": "tuICHacFGgq7"
      }
    },
    {
      "cell_type": "code",
      "source": [
        "#2. Create a Python function that accepts a string and returns the reverse of that string.\n",
        "\n",
        "name= input(\"Print name  \")\n",
        "\n",
        "def rev(name):\n",
        "    return name[::-1]\n",
        "\n",
        "print (rev(name))\n"
      ],
      "metadata": {
        "colab": {
          "base_uri": "https://localhost:8080/"
        },
        "id": "QT-ajb3mUfCz",
        "outputId": "f8202a11-0097-485b-d10b-d438cce1c5ba"
      },
      "execution_count": 14,
      "outputs": [
        {
          "output_type": "stream",
          "name": "stdout",
          "text": [
            "Print name  lk\n",
            "kl\n"
          ]
        }
      ]
    },
    {
      "cell_type": "code",
      "source": [
        "#3. Implement a Python function that takes a list of integers and returns a new list containing the squares of each number\n",
        "\n",
        "\n",
        "lst=[1,2,3,4,5,6]\n",
        "\n",
        "# using map function\n",
        "\n",
        "def square(lst):\n",
        "    return list(map(lambda x: x**2, lst))\n",
        "\n",
        "print(square(lst))\n"
      ],
      "metadata": {
        "colab": {
          "base_uri": "https://localhost:8080/"
        },
        "id": "O9TByxUuUp1c",
        "outputId": "1d3d1754-af44-4b5f-dd93-25043c5a401c"
      },
      "execution_count": 15,
      "outputs": [
        {
          "output_type": "stream",
          "name": "stdout",
          "text": [
            "[1, 4, 9, 16, 25, 36]\n"
          ]
        }
      ]
    },
    {
      "cell_type": "code",
      "source": [
        "# 4. Write a Python function that checks if a given number is prime or not from 1 to 200.\n",
        "\n",
        "def is_prime(number):\n",
        "    if number <= 1:\n",
        "        return False\n",
        "    if number <= 3:\n",
        "        return True\n",
        "    if number % 2 == 0 or number % 3 == 0:\n",
        "        return False\n",
        "\n",
        "\n"
      ],
      "metadata": {
        "id": "OtynSGM5ZJmz"
      },
      "execution_count": 16,
      "outputs": []
    },
    {
      "cell_type": "code",
      "source": [
        "#5. Create an iterator class in Python that generates the Fibonacci sequence up to a specified number of terms."
      ],
      "metadata": {
        "id": "UiFzEmJAaVhS"
      },
      "execution_count": null,
      "outputs": []
    },
    {
      "cell_type": "code",
      "source": [
        "#6. Write a generator function in Python that yields the powers of 2 up to a given exponent"
      ],
      "metadata": {
        "id": "OnVdNVb1beIy"
      },
      "execution_count": null,
      "outputs": []
    },
    {
      "cell_type": "code",
      "source": [
        "#7. Implement a generator function that reads a file line by line and yields each line as a string.\n",
        "\n",
        "def read_file_lines(file_path):\n",
        "    with open(file_path, 'r') as file:\n",
        "        for line in file:\n",
        "            yield line.rstrip('\\n')  # Optionally strip the newline character\n"
      ],
      "metadata": {
        "id": "_WCleDwlbhNX"
      },
      "execution_count": null,
      "outputs": []
    },
    {
      "cell_type": "code",
      "source": [
        " # 8) Use a lambda function in Python to sort a list of tuples based on the second element of each tuple.\n",
        "\n",
        "# List of tuples\n",
        "data = [(1, 3), (4, 1), (2, 2), (5, 0)]\n",
        "\n",
        "# Sort by the second element using lambda\n",
        "sorted_data = sorted(data, key=lambda x: x[1])\n",
        "\n",
        "print(sorted_data)\n",
        "\n",
        "\n"
      ],
      "metadata": {
        "colab": {
          "base_uri": "https://localhost:8080/"
        },
        "id": "NgXWXf1Eb2GW",
        "outputId": "4e7cdc02-d25e-47a2-8a02-fc4aa13b763c"
      },
      "execution_count": 17,
      "outputs": [
        {
          "output_type": "stream",
          "name": "stdout",
          "text": [
            "[(5, 0), (4, 1), (2, 2), (1, 3)]\n"
          ]
        }
      ]
    },
    {
      "cell_type": "code",
      "source": [
        "# List of temperatures in Celsius\n",
        "celsius_temps = [0, 20, 30, 37, 100]\n",
        "\n",
        "# Use map() with a lambda function to convert to Fahrenheit\n",
        "fahrenheit_temps = list(map(lambda c: (c * 9/5) + 32, celsius_temps))\n",
        "\n",
        "# Print the result\n",
        "print(\"Fahrenheit temperatures:\", fahrenheit_temps)"
      ],
      "metadata": {
        "id": "DxBlwX2AcH88"
      },
      "execution_count": null,
      "outputs": []
    },
    {
      "cell_type": "code",
      "source": [
        "# Create a Python program that uses `filter()` to remove all the vowels from a given string\n",
        "\n",
        "def remove_vowels(input_str):\n",
        "    vowels = 'aeiouAEIOU'\n",
        "    return ''.join(filter(lambda char: char not in vowels, input_str))\n",
        "\n",
        "# Example usage\n",
        "text = \"Hello, World!\"\n",
        "no_vowels = remove_vowels(text)\n",
        "print(\"Original:\", text)\n",
        "print(\"Without vowels:\", no_vowels)"
      ],
      "metadata": {
        "colab": {
          "base_uri": "https://localhost:8080/"
        },
        "id": "j03dGtBycjjA",
        "outputId": "11693f2b-e795-4485-8a79-bb4b8b9d1fc6"
      },
      "execution_count": 18,
      "outputs": [
        {
          "output_type": "stream",
          "name": "stdout",
          "text": [
            "Original: Hello, World!\n",
            "Without vowels: Hll, Wrld!\n"
          ]
        }
      ]
    }
  ]
}