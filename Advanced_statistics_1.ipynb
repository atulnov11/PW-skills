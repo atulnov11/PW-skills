{
  "nbformat": 4,
  "nbformat_minor": 0,
  "metadata": {
    "colab": {
      "provenance": []
    },
    "kernelspec": {
      "name": "python3",
      "display_name": "Python 3"
    },
    "language_info": {
      "name": "python"
    }
  },
  "cells": [
    {
      "cell_type": "markdown",
      "source": [
        "# Statistics Advance Part 1\n",
        "\n",
        "1)  What is a random variable in probability theory ?\n",
        "    - random variable is a function that assigns a numerical value to each outcome of a random experiment. It's essentially a variable whose value is a numerical outcome of a random phenomenon. These variables can be either discrete or continuous, depending on whether the outcomes can be counted or measured on a continuous scale.\n",
        "\n",
        "\n",
        "2) What are the types of random variables ?\n",
        "  -  Discrete and Continous\n",
        "\n",
        "3)  What is the difference between discrete and continuous distributions?\n",
        "   - Discrete distribution is associated with a discrete random variable, which can take on countable values ex -Number of heads or tails, No. of students in the class\n",
        "\n",
        "  - A continuous distribution is associated with a continuous random variable, which can take on uncountably many values ex- Height of the person, Time completed in a marathon, temperature\n",
        "\n",
        "4) What are probability distribution functions (PDF) ?\n",
        "- A Probability Density Function (PDF) is a function that describes the relative likelihood for a continuous random variable to take on a particular value.\n",
        "\n",
        "5) What is a discrete uniform distribution ?\n",
        "\n",
        "6) What are the key properties of a Bernoulli distribution ?\n",
        "- Bernoulli Distribution is defined as a fundamental tool for calculating probabilities in scenarios where only two choices are present. ex- passing or failing, Going to office or not going to office, winnning or loosing\n",
        "\n",
        "7) What is the binomial distribution, and how is it used in probability ?\n",
        "- The binomial distribution is a discrete probability distribution that models the number of successes in a fixed number of independent Bernoulli trials, where each trial has only two possible outcomes: success or failure.\n",
        "\n",
        "8) What is the Poisson distribution and where is it applied ?\n",
        "- The Poisson distribution is a discrete probability distribution used to model the number of times an event occurs in a fixed interval of time, space, or volume, when these events happen independently and at a constant average rate.\n",
        "\n",
        "9)  What is a continuous uniform distribution ?\n",
        "- A continuous uniform distribution is a type of continuous probability distribution where all values in a given interval are equally likely to occur.\n",
        "\n",
        "10) What are the characteristics of a normal distribution ?\n",
        "\n",
        "-The standard normal distribution is a special case of the normal distribution where the mean is 0 and standard deviation is one.\n",
        "\n",
        "11) What is the Central Limit Theorem (CLT), and why is it critical in statistics\n",
        "- The Central Limit Theorem states that if you take a large enough sample size from any population with a finite mean and variance, the sampling distribution of the sample mean will be approximately normal\n",
        "\n",
        "12) How does the Central Limit Theorem relate to the normal distribution ?\n",
        "-\n",
        "\n",
        "13) What is the application of Z statistics in hypothesis testing ?\n",
        "\n",
        "- The Z-statistic (or Z-score) plays a crucial role in hypothesis testing, particularly when dealing with large sample sizes or when the population standard deviation is known.\n",
        "\n",
        "14) How do you calculate a Z-score, and what does it represent ?\n",
        "\n",
        "A Z-score is a statistical measure that describes how many standard deviations a data point (or sample mean) is away from the mean of the population or distribution\n",
        "\n",
        "15) What are point estimates and interval estimates in statistics ?\n",
        "- Point Estimate: Use a point estimate when you need a quick, simple estimate and don't need to quantify the uncertainty or variability in your estimate. Point estimates are often the first step in analysis.\n",
        "\n",
        "- Interval Estimate: Use an interval estimate when you want to account for uncertainty and need to communicate the possible range of values for the population parameter. This is typically used when you want to express the confidence you have in your estimate.\n",
        "\n",
        "16) What is the significance of confidence intervals in statistical analysis ?\n",
        "- Confidence intervals  play a crucial role in statistical analysis by providing a range of values within which we expect a population parameter - such as a mean, proportion, or difference between groups to lie, based on sample data.\n",
        "\n",
        "17) How are Z-scores used to compare different distributions ?\n",
        "- Z-scores are powerful tools used to standardize data, allowing us to compare values from different distributions, even if those distributions have different means and standard deviations. By converting data points into Z-scores, we can express how far a value is from the mean in terms of standard deviations, making it possible to compare values across different datasets or distributions directly.\n",
        "\n",
        "18) What are the assumptions for applying the Central Limit Theorem ?\n",
        " - Independence of Observations\n",
        " - Random Sampling\n",
        " - Sample Size\n",
        " - Finite Variance and Mean\n",
        "\n",
        "19) What is the concept of expected value in a probability distribution ?\n",
        "- The expected value (also called the mean or expectation) of a probability distribution is a fundamental concept in probability and statistics. It represents the long-run average outcome of a random variable after many repetitions of an experiment.\n",
        "\n",
        "20) How does a probability distribution relate to the expected outcome of a random variable\n",
        "-\n"
      ],
      "metadata": {
        "id": "8-vg1-OSGDhA"
      }
    }
  ]
}